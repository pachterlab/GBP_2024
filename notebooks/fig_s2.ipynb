{
 "cells": [
  {
   "cell_type": "code",
   "execution_count": 24,
   "id": "31a8b983",
   "metadata": {},
   "outputs": [
    {
     "name": "stdout",
     "output_type": "stream",
     "text": [
      "The blackcellmagic extension is already loaded. To reload it, use:\n",
      "  %reload_ext blackcellmagic\n"
     ]
    }
   ],
   "source": [
    "import numpy as np\n",
    "import pandas as pd\n",
    "import os\n",
    "import matplotlib.pyplot as plt\n",
    "import seaborn as sns\n",
    "import anndata\n",
    "import ast\n",
    "from tqdm import tqdm\n",
    "import scipy\n",
    "from scipy.sparse import csr_matrix\n",
    "from scipy.stats import rankdata\n",
    "from tqdm import tqdm\n",
    "sns.set_context('talk')\n",
    "%load_ext blackcellmagic\n",
    "\n",
    "def nd(arr):\n",
    "    return np.asarray(arr).reshape(-1)"
   ]
  },
  {
   "cell_type": "code",
   "execution_count": 25,
   "id": "c6e7165e",
   "metadata": {},
   "outputs": [],
   "source": [
    "# Useful dictionary (gene ids to gene name and viceversa)\n",
    "gene_ids = pd.read_csv(\"/home/agalvezm/projects/cca/human/data/adipose/GSM3711757/gene_ids.txt.gz\", header = None)\n",
    "gene_names = pd.read_csv(\"/home/agalvezm/projects/cca/human/data/adipose/GSM3711757/genes.txt.gz\", header = None)\n",
    "\n",
    "gene_id_to_name = dict(pd.concat([gene_ids, gene_names] , axis = 1).values)\n",
    "gene_name_to_id = dict(pd.concat([gene_names, gene_ids] , axis = 1).values)"
   ]
  },
  {
   "cell_type": "code",
   "execution_count": 26,
   "id": "0a6c472b",
   "metadata": {},
   "outputs": [],
   "source": [
    "organ = 'testis'\n",
    "#assignment_type = 'rank_mx'\n",
    "assignment_type = 'rank_mx'\n",
    "\n",
    "\n",
    "\n",
    "home = '/home/cellatlas'\n",
    "home_output = '/home/agalvezm/projects/cca'\n",
    "dicts_path = f\"{home_output}/notebooks/files\"\n",
    "markers_path = f'{home}/human/markers/{organ}/markers.txt'\n",
    "\n",
    "tcc_mat_path = f\"{home_output}/split_by_celltype/tcc/{organ}\"\n",
    "\n",
    "\n",
    "transcripts_df = pd.read_csv(f'{dicts_path}/transcripts.txt', header = None)\n",
    "transcripts_df.insert(0, column = 'ec', value = transcripts_df.index)\n",
    "TX_to_ENST = dict(transcripts_df.values)\n",
    "\n",
    "t2g = pd.read_csv(f'{dicts_path}/t2g.txt', sep = '\\t', header = None)\n",
    "ENST_to_ENSG = dict(t2g[[0,1]].values)\n",
    "ENSG_to_name = dict(t2g[[1,2]].values)\n",
    "\n",
    "name_to_ENSG = {v: k for k, v in ENSG_to_name.items()}\n",
    "\n",
    "\n",
    "# Read ENSG_to_ec map\n",
    "ENSG_to_ecs_df = pd.read_csv(f'{home_output}/ec_unions/{organ}/ENSG_to_ecs.tsv', sep = '\\t', header = None)\n",
    "\n",
    "ENSG_to_ecs = dict(ENSG_to_ecs_df.values)\n",
    "\n",
    "ecs_to_ENSG = {v: k for k, v in ENSG_to_ecs.items()}\n",
    "\n",
    "\n",
    "\n",
    "# # Get cell types\n",
    "# celltypes = pd.read_csv(markers_path, sep = '\\t', header = None)[0].values\n",
    "\n",
    "\n",
    "# # genes_results_folder = f'/home/agalvezm/projects/cca/isoform_gene_de/genes_ttest'\n",
    "# # isoforms_results_folder = f'/home/agalvezm/projects/cca/tcm_ttests'"
   ]
  },
  {
   "cell_type": "code",
   "execution_count": 27,
   "id": "5603759b",
   "metadata": {},
   "outputs": [],
   "source": [
    "expression_folder = \"/home/agalvezm/projects/cca/expression\"\n",
    "exp_fname = \"transcript/oas1_all_isof/metadata_expression.csv\""
   ]
  },
  {
   "cell_type": "code",
   "execution_count": 28,
   "id": "64f74bea",
   "metadata": {},
   "outputs": [],
   "source": [
    "# Dictionary from transcript id to isoform common name\n",
    "\n",
    "id_to_name = {'ENST00000445409.6': 'p48',\n",
    " 'ENST00000452357.6': 'p42',\n",
    " 'ENST00000202917.10': 'p46',\n",
    " 'ENST00000551241.5': 'p44b',\n",
    "}"
   ]
  },
  {
   "cell_type": "code",
   "execution_count": 29,
   "id": "d2a97dfb",
   "metadata": {},
   "outputs": [
    {
     "name": "stderr",
     "output_type": "stream",
     "text": [
      "/home/agalvezm/.local/lib/python3.6/site-packages/IPython/core/interactiveshell.py:3072: DtypeWarning: Columns (7,8) have mixed types.Specify dtype option on import or set low_memory=False.\n",
      "  interactivity=interactivity, compiler=compiler, result=result)\n"
     ]
    },
    {
     "data": {
      "text/html": [
       "<div>\n",
       "<style scoped>\n",
       "    .dataframe tbody tr th:only-of-type {\n",
       "        vertical-align: middle;\n",
       "    }\n",
       "\n",
       "    .dataframe tbody tr th {\n",
       "        vertical-align: top;\n",
       "    }\n",
       "\n",
       "    .dataframe thead th {\n",
       "        text-align: right;\n",
       "    }\n",
       "</style>\n",
       "<table border=\"1\" class=\"dataframe\">\n",
       "  <thead>\n",
       "    <tr style=\"text-align: right;\">\n",
       "      <th></th>\n",
       "      <th>expression</th>\n",
       "      <th>target_id</th>\n",
       "      <th>barcode</th>\n",
       "      <th>observation_id</th>\n",
       "      <th>barcodes</th>\n",
       "      <th>label</th>\n",
       "      <th>DOI</th>\n",
       "      <th>organ</th>\n",
       "      <th>cell_origin</th>\n",
       "      <th>experiment</th>\n",
       "      <th>database_id</th>\n",
       "      <th>technology</th>\n",
       "      <th>infected</th>\n",
       "      <th>cell_id</th>\n",
       "    </tr>\n",
       "  </thead>\n",
       "  <tbody>\n",
       "    <tr>\n",
       "      <th>0</th>\n",
       "      <td>0.0</td>\n",
       "      <td>p48</td>\n",
       "      <td>AAACCTGAGAGTTGGC</td>\n",
       "      <td>GSM2905292</td>\n",
       "      <td>AAACCTGAGAGTTGGC</td>\n",
       "      <td>Neurecto-epithelial cell</td>\n",
       "      <td>Muus et al 2020</td>\n",
       "      <td>brain</td>\n",
       "      <td>brain organoid developmental stage: day 32 ste...</td>\n",
       "      <td>protocol: BMPa</td>\n",
       "      <td>GSE108571</td>\n",
       "      <td>10xv2</td>\n",
       "      <td>healthy</td>\n",
       "      <td>GSM2905292_AAACCTGAGAGTTGGC</td>\n",
       "    </tr>\n",
       "    <tr>\n",
       "      <th>1</th>\n",
       "      <td>0.0</td>\n",
       "      <td>p42</td>\n",
       "      <td>AAACCTGAGAGTTGGC</td>\n",
       "      <td>GSM2905292</td>\n",
       "      <td>AAACCTGAGAGTTGGC</td>\n",
       "      <td>Neurecto-epithelial cell</td>\n",
       "      <td>Muus et al 2020</td>\n",
       "      <td>brain</td>\n",
       "      <td>brain organoid developmental stage: day 32 ste...</td>\n",
       "      <td>protocol: BMPa</td>\n",
       "      <td>GSE108571</td>\n",
       "      <td>10xv2</td>\n",
       "      <td>healthy</td>\n",
       "      <td>GSM2905292_AAACCTGAGAGTTGGC</td>\n",
       "    </tr>\n",
       "    <tr>\n",
       "      <th>2</th>\n",
       "      <td>0.0</td>\n",
       "      <td>p46</td>\n",
       "      <td>AAACCTGAGAGTTGGC</td>\n",
       "      <td>GSM2905292</td>\n",
       "      <td>AAACCTGAGAGTTGGC</td>\n",
       "      <td>Neurecto-epithelial cell</td>\n",
       "      <td>Muus et al 2020</td>\n",
       "      <td>brain</td>\n",
       "      <td>brain organoid developmental stage: day 32 ste...</td>\n",
       "      <td>protocol: BMPa</td>\n",
       "      <td>GSE108571</td>\n",
       "      <td>10xv2</td>\n",
       "      <td>healthy</td>\n",
       "      <td>GSM2905292_AAACCTGAGAGTTGGC</td>\n",
       "    </tr>\n",
       "  </tbody>\n",
       "</table>\n",
       "</div>"
      ],
      "text/plain": [
       "   expression target_id           barcode observation_id          barcodes  \\\n",
       "0         0.0       p48  AAACCTGAGAGTTGGC     GSM2905292  AAACCTGAGAGTTGGC   \n",
       "1         0.0       p42  AAACCTGAGAGTTGGC     GSM2905292  AAACCTGAGAGTTGGC   \n",
       "2         0.0       p46  AAACCTGAGAGTTGGC     GSM2905292  AAACCTGAGAGTTGGC   \n",
       "\n",
       "                      label              DOI  organ  \\\n",
       "0  Neurecto-epithelial cell  Muus et al 2020  brain   \n",
       "1  Neurecto-epithelial cell  Muus et al 2020  brain   \n",
       "2  Neurecto-epithelial cell  Muus et al 2020  brain   \n",
       "\n",
       "                                         cell_origin      experiment  \\\n",
       "0  brain organoid developmental stage: day 32 ste...  protocol: BMPa   \n",
       "1  brain organoid developmental stage: day 32 ste...  protocol: BMPa   \n",
       "2  brain organoid developmental stage: day 32 ste...  protocol: BMPa   \n",
       "\n",
       "  database_id technology infected                      cell_id  \n",
       "0   GSE108571      10xv2  healthy  GSM2905292_AAACCTGAGAGTTGGC  \n",
       "1   GSE108571      10xv2  healthy  GSM2905292_AAACCTGAGAGTTGGC  \n",
       "2   GSE108571      10xv2  healthy  GSM2905292_AAACCTGAGAGTTGGC  "
      ]
     },
     "execution_count": 29,
     "metadata": {},
     "output_type": "execute_result"
    }
   ],
   "source": [
    "#Read dataframe\n",
    "df = pd.read_csv(f\"{expression_folder}/{exp_fname}\")\n",
    "\n",
    "# Clean\n",
    "df = df.drop(columns = ['Unnamed: 0', 'Unnamed: 0.1', 'organ_x'])\n",
    "df = df.rename(columns = {'organ_y': 'organ'})\n",
    "\n",
    "# Annotate covid info\n",
    "df[\"infected\"] = [\"infected\" if \"covid\" in experiment else \"healthy\" for experiment in df.experiment]\n",
    "\n",
    "# Replace transcript id by common name\n",
    "df['target_id'] = [id_to_name[id] if id in id_to_name.keys() else id for id in df['target_id']]\n",
    "\n",
    "# Create unique cell id\n",
    "df['cell_id'] = [f\"{obs_id}_{bc}\" for obs_id, bc in zip(df['observation_id'], df['barcode'])]\n",
    "\n",
    "# Beautify cell type names\n",
    "#df['cell_type'] = [ct_names_dict[ct] for ct in df['cell_type']]\n",
    "\n",
    "df.head(n = 3)"
   ]
  },
  {
   "cell_type": "code",
   "execution_count": 30,
   "id": "c641bbb0",
   "metadata": {},
   "outputs": [],
   "source": [
    "order = ['p42', 'p44b', 'p46', 'p48', 'ENST00000553185.1',\n",
    "       'ENST00000553152.1', 'ENST00000552526.1', 'ENST00000550883.1',\n",
    "       'ENST00000550689.1', 'ENST00000549820.1', 'ENST00000540589.2']\n",
    "\n",
    "pal = sns.color_palette(\"Blues\")\n"
   ]
  },
  {
   "cell_type": "code",
   "execution_count": 31,
   "id": "4a42fa7e",
   "metadata": {},
   "outputs": [
    {
     "data": {
      "image/png": "[encoded data removed]",
      "text/plain": [
       "<Figure size 1080x504 with 1 Axes>"
      ]
     },
     "metadata": {
      "needs_background": "light"
     },
     "output_type": "display_data"
    }
   ],
   "source": [
    "toplot_df = df\n",
    "\n",
    "plt.subplots(figsize=(15,7))\n",
    "sns.set_context('poster')\n",
    "f = sns.barplot(y = toplot_df['expression'], x = toplot_df['target_id'], \n",
    "                order = order, palette = [pal[3]] *4 + ['gray'] * 7)\n",
    "f.set_xlabel(\"Isoform\")\n",
    "f.set_ylabel('OAS1 isoform expression')\n",
    "plt.xticks(rotation=90)\n",
    "\n",
    "sns.despine()\n",
    "plt.tight_layout()\n",
    "plt.savefig('all_OAS1_isoforms_expression_atlas.png')"
   ]
  },
  {
   "cell_type": "code",
   "execution_count": null,
   "id": "d8e17fef",
   "metadata": {},
   "outputs": [],
   "source": []
  }
 ],
 "metadata": {
  "kernelspec": {
   "display_name": "Python 3",
   "language": "python",
   "name": "python3"
  },
  "language_info": {
   "codemirror_mode": {
    "name": "ipython",
    "version": 3
   },
   "file_extension": ".py",
   "mimetype": "text/x-python",
   "name": "python",
   "nbconvert_exporter": "python",
   "pygments_lexer": "ipython3",
   "version": "3.6.9"
  }
 },
 "nbformat": 4,
 "nbformat_minor": 5
}
