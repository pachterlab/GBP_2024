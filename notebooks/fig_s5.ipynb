{
 "cells": [
  {
   "cell_type": "code",
   "execution_count": 1,
   "id": "5885c1ba",
   "metadata": {},
   "outputs": [],
   "source": [
    "import numpy as np\n",
    "import pandas as pd\n",
    "import os\n",
    "import matplotlib.pyplot as plt\n",
    "import seaborn as sns\n",
    "import anndata\n",
    "import ast\n",
    "from tqdm import tqdm\n",
    "import scipy\n",
    "from scipy.sparse import csr_matrix\n",
    "from scipy.stats import rankdata\n",
    "from tqdm import tqdm\n",
    "sns.set_context('talk')\n",
    "%load_ext blackcellmagic\n",
    "from scipy import sparse\n",
    "from tqdm import tqdm\n",
    "from anndata import AnnData\n",
    "\n",
    "def nd(arr):\n",
    "    return np.asarray(arr).reshape(-1)"
   ]
  },
  {
   "cell_type": "code",
   "execution_count": 2,
   "id": "c58f7de8",
   "metadata": {},
   "outputs": [],
   "source": [
    "# Useful dictionary (gene ids to gene name and viceversa)\n",
    "gene_ids = pd.read_csv(\"/home/agalvezm/projects/cca/human/data/adipose/GSM3711757/gene_ids.txt.gz\", header = None)\n",
    "gene_names = pd.read_csv(\"/home/agalvezm/projects/cca/human/data/adipose/GSM3711757/genes.txt.gz\", header = None)\n",
    "\n",
    "gene_id_to_name = dict(pd.concat([gene_ids, gene_names] , axis = 1).values)\n",
    "gene_name_to_id = dict(pd.concat([gene_names, gene_ids] , axis = 1).values)"
   ]
  },
  {
   "cell_type": "code",
   "execution_count": 14,
   "id": "9b2459e6",
   "metadata": {},
   "outputs": [],
   "source": [
    "organ = 'testis'\n",
    "\n",
    "home = '/home/cellatlas'\n",
    "home_output = '/home/agalvezm/projects/cca'\n",
    "dicts_path = f\"{home_output}/notebooks/files\"\n",
    "markers_path = f'{home}/human/markers/{organ}/markers.txt'\n",
    "\n",
    "\n",
    "transcripts_df = pd.read_csv(f'{dicts_path}/transcripts.txt', header = None)\n",
    "transcripts_df.insert(0, column = 'ec', value = transcripts_df.index)\n",
    "TX_to_ENST = dict(transcripts_df.values)\n",
    "\n",
    "t2g = pd.read_csv(f'{dicts_path}/t2g.txt', sep = '\\t', header = None)\n",
    "ENST_to_ENSG = dict(t2g[[0,1]].values)\n",
    "ENSG_to_name = dict(t2g[[1,2]].values)"
   ]
  },
  {
   "cell_type": "markdown",
   "id": "bc2f1e01",
   "metadata": {},
   "source": [
    "## Read raw matrices"
   ]
  },
  {
   "cell_type": "code",
   "execution_count": 143,
   "id": "ab4e16f8",
   "metadata": {},
   "outputs": [],
   "source": [
    "obs_id = 'GSM2928378'"
   ]
  },
  {
   "cell_type": "code",
   "execution_count": 144,
   "id": "579a2933",
   "metadata": {},
   "outputs": [],
   "source": [
    "raw_tcc = anndata.read_mtx(f'/home/agalvezm/projects/cca/tcc_files/testis/{obs_id}/{obs_id}_filtered.mtx')"
   ]
  },
  {
   "cell_type": "code",
   "execution_count": 145,
   "id": "351018fd",
   "metadata": {},
   "outputs": [],
   "source": [
    "raw_tcc_var = pd.read_csv(f'/home/agalvezm/projects/cca/tcc_files/testis/{obs_id}/{obs_id}.ec.txt',\n",
    "                         sep ='\\t', header = None)\n",
    "\n",
    "raw_tcc_obs = pd.read_csv(f'/home/agalvezm/projects/cca/tcc_files/testis/{obs_id}/{obs_id}_filtered_barcodes.txt',\n",
    "                         header = None)\n",
    "\n",
    "raw_tcc.obs = raw_tcc_obs\n",
    "raw_tcc.var = raw_tcc_var\n",
    "raw_tcc.var.index = raw_tcc.var[1]"
   ]
  },
  {
   "cell_type": "code",
   "execution_count": 146,
   "id": "56f157de",
   "metadata": {},
   "outputs": [],
   "source": [
    "raw_gene = anndata.read_mtx(f'/home/agalvezm/projects/cca/human/data/testis/{obs_id}/mito_filter/matrix.mtx.gz')\n"
   ]
  },
  {
   "cell_type": "code",
   "execution_count": 147,
   "id": "2bee03cd",
   "metadata": {},
   "outputs": [],
   "source": [
    "raw_gene_var = pd.read_csv(f'/home/agalvezm/projects/cca/human/data/testis/{obs_id}/gene_ids.txt.gz',\n",
    "                          header = None)\n",
    "\n",
    "raw_gene_obs = pd.read_csv(f'/home/agalvezm/projects/cca/human/data/testis/{obs_id}/mito_filter/barcodes.txt.gz',\n",
    "                          header = None)\n",
    "\n",
    "raw_gene.obs = raw_gene_obs\n",
    "raw_gene.var = raw_gene_var\n",
    "raw_gene.var.index = raw_gene.var[0]"
   ]
  },
  {
   "cell_type": "markdown",
   "id": "1ebae5e8",
   "metadata": {},
   "source": [
    "### Filter tcc matrix to single equivalence class counts"
   ]
  },
  {
   "cell_type": "code",
   "execution_count": 148,
   "id": "c3e0b936",
   "metadata": {},
   "outputs": [
    {
     "data": {
      "text/plain": [
       "AnnData object with n_obs × n_vars = 3462 × 2544931\n",
       "    obs: 0\n",
       "    var: 0, 1"
      ]
     },
     "execution_count": 148,
     "metadata": {},
     "output_type": "execute_result"
    }
   ],
   "source": [
    "raw_tcc"
   ]
  },
  {
   "cell_type": "code",
   "execution_count": 149,
   "id": "845ad9fc",
   "metadata": {},
   "outputs": [
    {
     "data": {
      "text/plain": [
       "View of AnnData object with n_obs × n_vars = 3462 × 227368\n",
       "    obs: 0\n",
       "    var: 0, 1"
      ]
     },
     "execution_count": 149,
     "metadata": {},
     "output_type": "execute_result"
    }
   ],
   "source": [
    "indices = [i for i in raw_tcc.var.index if len(i.split(',')) == 1]\n",
    "\n",
    "filtered_tcc = raw_tcc[:,indices]\n",
    "\n",
    "filtered_tcc"
   ]
  },
  {
   "cell_type": "markdown",
   "id": "636d22e0",
   "metadata": {},
   "source": [
    "### Add counts of transcripts from same gene"
   ]
  },
  {
   "cell_type": "code",
   "execution_count": 150,
   "id": "f9d4a8e7",
   "metadata": {},
   "outputs": [
    {
     "name": "stderr",
     "output_type": "stream",
     "text": [
      "Trying to set attribute `.var` of view, copying.\n"
     ]
    }
   ],
   "source": [
    "filtered_tcc.var['ENST'] = [TX_to_ENST[int(t)] for t in filtered_tcc.var.index]\n",
    "filtered_tcc.var['ENSG'] = [ENST_to_ENSG[t] for t in filtered_tcc.var['ENST']]"
   ]
  },
  {
   "cell_type": "code",
   "execution_count": 151,
   "id": "55d350f9",
   "metadata": {},
   "outputs": [],
   "source": [
    "groupby_object = filtered_tcc.var.groupby('ENSG', observed = True)"
   ]
  },
  {
   "cell_type": "code",
   "execution_count": 152,
   "id": "e842375e",
   "metadata": {},
   "outputs": [
    {
     "name": "stderr",
     "output_type": "stream",
     "text": [
      "100%|██████████| 60623/60623 [24:35<00:00, 41.08it/s]\n"
     ]
    }
   ],
   "source": [
    "X_summed = sparse.lil_matrix((len(filtered_tcc.obs), len(filtered_tcc.var.ENSG.unique())))\n",
    "X = filtered_tcc.X\n",
    "group_names = []\n",
    "index_names = []\n",
    "col = 0\n",
    "for group_row, idx_ in tqdm(groupby_object.indices.items()):\n",
    "    X_summed[:,col] = X[:, idx_].sum(1)\n",
    "    col += 1\n",
    "    group_names.append(group_row)\n",
    "    index_names.append('_'.join(map(str, group_row)))\n",
    "X_summed = X_summed.tocsr()"
   ]
  },
  {
   "cell_type": "code",
   "execution_count": 153,
   "id": "648602a7",
   "metadata": {},
   "outputs": [],
   "source": [
    "tcc_summed = AnnData(X = X_summed, obs = filtered_tcc.obs, var = group_names)"
   ]
  },
  {
   "cell_type": "code",
   "execution_count": 154,
   "id": "c644517b",
   "metadata": {},
   "outputs": [
    {
     "data": {
      "text/plain": [
       "AnnData object with n_obs × n_vars = 3462 × 60623\n",
       "    obs: 0\n",
       "    var: 0"
      ]
     },
     "execution_count": 154,
     "metadata": {},
     "output_type": "execute_result"
    }
   ],
   "source": [
    "tcc_summed"
   ]
  },
  {
   "cell_type": "markdown",
   "id": "3ae7c7c0",
   "metadata": {},
   "source": [
    "### Calculage average across all cells"
   ]
  },
  {
   "cell_type": "code",
   "execution_count": 155,
   "id": "79452721",
   "metadata": {},
   "outputs": [],
   "source": [
    "# Calculate average expression\n",
    "tcc_summed.var['average_counts'] = nd(tcc_summed.X.mean(axis = 0))\n",
    "tcc_summed.var.columns = ['ENSG', 'average_counts']\n",
    "\n",
    "raw_gene.var['average_counts_gene'] = nd(raw_gene.X.mean(axis = 0))\n",
    "raw_gene.var.columns = ['ENSG', 'average_counts_gene']\n"
   ]
  },
  {
   "cell_type": "markdown",
   "id": "2639ce8b",
   "metadata": {},
   "source": [
    "### Plot isoforms vs gene average raw counts"
   ]
  },
  {
   "cell_type": "code",
   "execution_count": 159,
   "id": "a4fe3218",
   "metadata": {},
   "outputs": [],
   "source": [
    "df = raw_gene.var.merge(tcc_summed.var, left_on = 'ENSG', right_on = 'ENSG', how = 'outer')\n",
    "\n",
    "# Remove non-expressed genes\n",
    "df = df[df['average_counts_gene'] != 0]\n",
    "df = df.fillna(0)\n",
    "\n",
    "# Calculate counts ratio\n",
    "df['counts_ratio'] = df['average_counts']/ df['average_counts_gene'] \n",
    "df = df.dropna()\n",
    "\n",
    "# Remove genes with higher than 1 ratio due to UMI collapsing\n",
    "#df = df[df['counts_ratio'] <= 1]\n",
    "\n",
    "# Remove genes that have a single isoform\n",
    "more_than_one_isof_genes = t2g[t2g[1].duplicated()][1].values\n",
    "df = df[df['ENSG'].isin(more_than_one_isof_genes)]"
   ]
  },
  {
   "cell_type": "code",
   "execution_count": 160,
   "id": "1c546634",
   "metadata": {},
   "outputs": [
    {
     "data": {
      "image/png": "[encoded data removed]",
      "text/plain": [
       "<Figure size 432x288 with 1 Axes>"
      ]
     },
     "metadata": {
      "needs_background": "light"
     },
     "output_type": "display_data"
    }
   ],
   "source": [
    "fig, ax = plt.subplots()\n",
    "sns.scatterplot(data = df, y = 'counts_ratio', x = 'average_counts_gene', alpha = 0.01, color = 'black')\n",
    "ax.set_xscale('log')\n",
    "ax.set_ylim(0,1.05)\n",
    "ax.set_ylabel('Isoforms-to-gene \\n counts ratio')\n",
    "ax.set_xlabel('Counts gene')\n",
    "sns.despine()\n",
    "plt.tight_layout()\n",
    "mkdir -p figures\n",
    "plt.savefig('figures/fig_s5.png')"
   ]
  },
  {
   "cell_type": "code",
   "execution_count": 171,
   "id": "e01010fc",
   "metadata": {},
   "outputs": [
    {
     "data": {
      "text/plain": [
       "0.27796536796536797"
      ]
     },
     "execution_count": 171,
     "metadata": {},
     "output_type": "execute_result"
    }
   ],
   "source": [
    "np.sum(df['counts_ratio'] > 0.8) / len(df)"
   ]
  },
  {
   "cell_type": "code",
   "execution_count": 172,
   "id": "98b698a7",
   "metadata": {},
   "outputs": [
    {
     "data": {
      "text/plain": [
       "0.21857142857142858"
      ]
     },
     "execution_count": 172,
     "metadata": {},
     "output_type": "execute_result"
    }
   ],
   "source": [
    "np.sum(df['counts_ratio'] > 0.9) / len(df)"
   ]
  },
  {
   "cell_type": "code",
   "execution_count": null,
   "id": "331d7dc0",
   "metadata": {},
   "outputs": [],
   "source": []
  }
 ],
 "metadata": {
  "kernelspec": {
   "display_name": "Python 3",
   "language": "python",
   "name": "python3"
  },
  "language_info": {
   "codemirror_mode": {
    "name": "ipython",
    "version": 3
   },
   "file_extension": ".py",
   "mimetype": "text/x-python",
   "name": "python",
   "nbconvert_exporter": "python",
   "pygments_lexer": "ipython3",
   "version": "3.6.9"
  }
 },
 "nbformat": 4,
 "nbformat_minor": 5
}
