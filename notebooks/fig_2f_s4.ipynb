{
 "cells": [
  {
   "cell_type": "code",
   "execution_count": 1,
   "id": "5f4b4c4c",
   "metadata": {},
   "outputs": [
    {
     "data": {
      "text/plain": [
       "<Figure size 432x288 with 0 Axes>"
      ]
     },
     "metadata": {},
     "output_type": "display_data"
    }
   ],
   "source": [
    "import pandas as pd\n",
    "import numpy as np\n",
    "import seaborn as sns\n",
    "import matplotlib.pyplot as plt\n",
    "import os\n",
    "from tqdm import tqdm\n",
    "\n",
    "sns.despine()\n",
    "sns.set_context(\"poster\")"
   ]
  },
  {
   "cell_type": "code",
   "execution_count": 2,
   "id": "12f438e0",
   "metadata": {},
   "outputs": [],
   "source": [
    "ct_names_dict = {\"RoundSpermatid\": \"Round Spermatid\",\n",
    " \"Elongating\": \"Elongating Spermatid\",\n",
    " \"f-Pericyte\": \"Fibroblastic Pericyte\",\n",
    " \"m-Pericyte\": \"Muscular Pericyte\",\n",
    " \"Tcell\" :\"T-cell\",\n",
    " \"ImmLeydig\": \"Immature Leydig\", 'other': 'Other',\n",
    " # these cell types remain the same\n",
    " 'Macrophage': 'Macrophage', 'Endothelial':'Endothelial',\n",
    " 'Myoid': 'Myoid', 'Spermatogonia': 'Spermatogonia',\n",
    " 'Spermatocyte': 'Spermatocyte', 'Other': 'Other', }\n",
    "\n",
    "order = [\"Macrophage\",\"Endothelial\", \"Immature Leydig\", \"T-cell\", \"Myoid\",\n",
    "         \"Muscular Pericyte\",\n",
    "        \"Spermatogonia\",  \"Spermatocyte\", \"Round Spermatid\",\n",
    "         \"Elongating Spermatid\"]\n",
    "\n"
   ]
  },
  {
   "cell_type": "code",
   "execution_count": 3,
   "id": "0c3294b1",
   "metadata": {},
   "outputs": [],
   "source": [
    "exp_fname = \"../files/oas1_testis_isoform_expression.csv.gz\""
   ]
  },
  {
   "cell_type": "code",
   "execution_count": 5,
   "id": "71361fac-baf7-4fcd-8a21-1f3be88a4c46",
   "metadata": {},
   "outputs": [],
   "source": [
    "organ = 'testis'\n",
    "home = '/home/cellatlas/human/data'\n",
    "data = f'{home}/{organ}'"
   ]
  },
  {
   "cell_type": "code",
   "execution_count": 6,
   "id": "c2df8103",
   "metadata": {},
   "outputs": [],
   "source": [
    "# Dictionary from transcript id to isoform common name\n",
    "\n",
    "id_to_name = {'ENST00000445409.6': 'p48',\n",
    " 'ENST00000452357.6': 'p42',\n",
    " 'ENST00000202917.10': 'p46',\n",
    " 'ENST00000551241.5': 'p44b',\n",
    "}"
   ]
  },
  {
   "cell_type": "markdown",
   "id": "4f575f09",
   "metadata": {},
   "source": [
    "### Read dataframe"
   ]
  },
  {
   "cell_type": "code",
   "execution_count": 7,
   "id": "cd256b4e",
   "metadata": {},
   "outputs": [
    {
     "data": {
      "text/html": [
       "<div>\n",
       "<style scoped>\n",
       "    .dataframe tbody tr th:only-of-type {\n",
       "        vertical-align: middle;\n",
       "    }\n",
       "\n",
       "    .dataframe tbody tr th {\n",
       "        vertical-align: top;\n",
       "    }\n",
       "\n",
       "    .dataframe thead th {\n",
       "        text-align: right;\n",
       "    }\n",
       "</style>\n",
       "<table border=\"1\" class=\"dataframe\">\n",
       "  <thead>\n",
       "    <tr style=\"text-align: right;\">\n",
       "      <th></th>\n",
       "      <th>expression</th>\n",
       "      <th>target_id</th>\n",
       "      <th>barcode</th>\n",
       "      <th>observation_id</th>\n",
       "      <th>cell_type</th>\n",
       "      <th>DOI</th>\n",
       "      <th>organ</th>\n",
       "      <th>cell_origin</th>\n",
       "      <th>experiment</th>\n",
       "      <th>database_id</th>\n",
       "      <th>technology</th>\n",
       "      <th>infected</th>\n",
       "      <th>cell_id</th>\n",
       "    </tr>\n",
       "  </thead>\n",
       "  <tbody>\n",
       "    <tr>\n",
       "      <th>0</th>\n",
       "      <td>0.0</td>\n",
       "      <td>p46</td>\n",
       "      <td>AAACCTGAGAATGTGT</td>\n",
       "      <td>GSM3526587</td>\n",
       "      <td>T-cell</td>\n",
       "      <td>Muus et al 2020</td>\n",
       "      <td>testis</td>\n",
       "      <td>ITGA6 enriched</td>\n",
       "      <td>Adult 1 ITGA6 enriched</td>\n",
       "      <td>GSE124263</td>\n",
       "      <td>10xv2</td>\n",
       "      <td>healthy</td>\n",
       "      <td>GSM3526587_AAACCTGAGAATGTGT</td>\n",
       "    </tr>\n",
       "    <tr>\n",
       "      <th>1</th>\n",
       "      <td>0.0</td>\n",
       "      <td>p46</td>\n",
       "      <td>AAACCTGAGAGAGCTC</td>\n",
       "      <td>GSM3526587</td>\n",
       "      <td>T-cell</td>\n",
       "      <td>Muus et al 2020</td>\n",
       "      <td>testis</td>\n",
       "      <td>ITGA6 enriched</td>\n",
       "      <td>Adult 1 ITGA6 enriched</td>\n",
       "      <td>GSE124263</td>\n",
       "      <td>10xv2</td>\n",
       "      <td>healthy</td>\n",
       "      <td>GSM3526587_AAACCTGAGAGAGCTC</td>\n",
       "    </tr>\n",
       "    <tr>\n",
       "      <th>2</th>\n",
       "      <td>0.0</td>\n",
       "      <td>p46</td>\n",
       "      <td>AAACCTGCAAGTTCTG</td>\n",
       "      <td>GSM3526587</td>\n",
       "      <td>T-cell</td>\n",
       "      <td>Muus et al 2020</td>\n",
       "      <td>testis</td>\n",
       "      <td>ITGA6 enriched</td>\n",
       "      <td>Adult 1 ITGA6 enriched</td>\n",
       "      <td>GSE124263</td>\n",
       "      <td>10xv2</td>\n",
       "      <td>healthy</td>\n",
       "      <td>GSM3526587_AAACCTGCAAGTTCTG</td>\n",
       "    </tr>\n",
       "  </tbody>\n",
       "</table>\n",
       "</div>"
      ],
      "text/plain": [
       "   expression target_id           barcode observation_id cell_type  \\\n",
       "0         0.0       p46  AAACCTGAGAATGTGT     GSM3526587    T-cell   \n",
       "1         0.0       p46  AAACCTGAGAGAGCTC     GSM3526587    T-cell   \n",
       "2         0.0       p46  AAACCTGCAAGTTCTG     GSM3526587    T-cell   \n",
       "\n",
       "               DOI   organ     cell_origin              experiment  \\\n",
       "0  Muus et al 2020  testis  ITGA6 enriched  Adult 1 ITGA6 enriched   \n",
       "1  Muus et al 2020  testis  ITGA6 enriched  Adult 1 ITGA6 enriched   \n",
       "2  Muus et al 2020  testis  ITGA6 enriched  Adult 1 ITGA6 enriched   \n",
       "\n",
       "  database_id technology infected                      cell_id  \n",
       "0   GSE124263      10xv2  healthy  GSM3526587_AAACCTGAGAATGTGT  \n",
       "1   GSE124263      10xv2  healthy  GSM3526587_AAACCTGAGAGAGCTC  \n",
       "2   GSE124263      10xv2  healthy  GSM3526587_AAACCTGCAAGTTCTG  "
      ]
     },
     "execution_count": 7,
     "metadata": {},
     "output_type": "execute_result"
    }
   ],
   "source": [
    "# Read dataframe\n",
    "df = pd.read_csv(exp_fname)\n",
    "\n",
    "# Clean\n",
    "df = df.drop(columns = ['Unnamed: 0', 'Unnamed: 0.1', 'organ_x'])\n",
    "df = df.rename(columns = {'organ_y': 'organ'})\n",
    "\n",
    "# Annotate covid info\n",
    "df[\"infected\"] = [\"infected\" if \"covid\" in experiment else \"healthy\" for experiment in df.experiment]\n",
    "\n",
    "# Replace transcript id by common name\n",
    "df['target_id'] = [id_to_name[id] for id in df['target_id']]\n",
    "\n",
    "# Create unique cell id\n",
    "df['cell_id'] = [f\"{obs_id}_{bc}\" for obs_id, bc in zip(df['observation_id'], df['barcode'])]\n",
    "\n",
    "# Beautify cell type names\n",
    "df['cell_type'] = [ct_names_dict[ct] for ct in df['cell_type']]\n",
    "\n",
    "df.head(n = 3)"
   ]
  },
  {
   "cell_type": "code",
   "execution_count": 11,
   "id": "050e731b-c7c0-47a7-b6f4-22750c60fd9d",
   "metadata": {},
   "outputs": [
    {
     "name": "stderr",
     "output_type": "stream",
     "text": [
      "100%|██████████| 25/25 [00:03<00:00,  6.86it/s]\n"
     ]
    },
    {
     "name": "stdout",
     "output_type": "stream",
     "text": [
      "25\n"
     ]
    }
   ],
   "source": [
    "# Read mx assignments\n",
    "observations = ['GSM4486714',\n",
    " 'GSM3402080',\n",
    " 'GSM2928381',\n",
    " 'GSM3526586',\n",
    " 'GSM2928378',\n",
    " 'GSM3526585',\n",
    " 'GSM3526584',\n",
    " 'GSM3402078',\n",
    " 'GSM2928382',\n",
    " 'GSM3526590',\n",
    " 'GSM2928379',\n",
    " 'GSM2928377',\n",
    " 'GSM3526589',\n",
    " 'GSM4486715',\n",
    " 'GSM3052921',\n",
    " 'GSM3052919',\n",
    " 'GSM3302525',\n",
    " 'GSM3526588',\n",
    " 'GSM2928380',\n",
    " 'GSM2928384',\n",
    " 'GSM3302524',\n",
    " 'GSM3526583',\n",
    " 'GSM3526587',\n",
    " 'GSM4486716',\n",
    " 'GSM3732871']\n",
    "\n",
    "\n",
    "results = []\n",
    "no_samples=0\n",
    "for obs in tqdm(observations):\n",
    "    try:\n",
    "        mx_assignments = pd.read_csv(f'../files/mx_testis_assignments/{obs}/assignments_rank_mx.tsv', sep = '\\t')\n",
    "        mx_assignments = mx_assignments.rename(columns = {'Unnamed: 0': 'cell'})\n",
    "\n",
    "        # Add observation column:\n",
    "        mx_assignments['observation'] = obs         \n",
    "        # Add to list\n",
    "        results.append(mx_assignments)\n",
    "        no_samples +=1\n",
    "    except:\n",
    "        continue\n",
    "# Concatenate results\n",
    "results_df = pd.concat(results)\n",
    "print(no_samples)"
   ]
  },
  {
   "cell_type": "code",
   "execution_count": 12,
   "id": "d625e171-1738-46df-b82b-f26dae0dff1a",
   "metadata": {},
   "outputs": [],
   "source": [
    "results_df['unique_id'] = [f'{o}_{b}' for b, o in zip(results_df['barcodes'], results_df['observation'])]"
   ]
  },
  {
   "cell_type": "code",
   "execution_count": 13,
   "id": "e2b456ef-8af8-45ab-97a3-67db2549c6ae",
   "metadata": {},
   "outputs": [],
   "source": [
    "df_m = df.merge(results_df, left_on = 'cell_id', right_on = 'unique_id')\n",
    "\n",
    "# Beautify celltype names\n",
    "df_m['label'] = [ct_names_dict[ct] for ct in df_m['label']]\n",
    "\n"
   ]
  },
  {
   "cell_type": "markdown",
   "id": "9ad003d9",
   "metadata": {},
   "source": [
    "## OAS1 isoforms expression by cell type"
   ]
  },
  {
   "cell_type": "code",
   "execution_count": 14,
   "id": "f6f0f676",
   "metadata": {},
   "outputs": [],
   "source": [
    "# make healthy only df for healthy plots below\n",
    "h_df = df.query(\"infected == 'healthy'\")"
   ]
  },
  {
   "cell_type": "markdown",
   "id": "305290e0",
   "metadata": {},
   "source": [
    "### Relative isoform proportion"
   ]
  },
  {
   "cell_type": "code",
   "execution_count": 15,
   "id": "44c5090a",
   "metadata": {},
   "outputs": [
    {
     "data": {
      "text/html": [
       "<div>\n",
       "<style scoped>\n",
       "    .dataframe tbody tr th:only-of-type {\n",
       "        vertical-align: middle;\n",
       "    }\n",
       "\n",
       "    .dataframe tbody tr th {\n",
       "        vertical-align: top;\n",
       "    }\n",
       "\n",
       "    .dataframe thead th {\n",
       "        text-align: right;\n",
       "    }\n",
       "</style>\n",
       "<table border=\"1\" class=\"dataframe\">\n",
       "  <thead>\n",
       "    <tr style=\"text-align: right;\">\n",
       "      <th></th>\n",
       "      <th>all_isoforms_expression</th>\n",
       "    </tr>\n",
       "    <tr>\n",
       "      <th>unique_id</th>\n",
       "      <th></th>\n",
       "    </tr>\n",
       "  </thead>\n",
       "  <tbody>\n",
       "    <tr>\n",
       "      <th>GSM2928377_AAACCTGAGAGGTTAT</th>\n",
       "      <td>0.616966</td>\n",
       "    </tr>\n",
       "    <tr>\n",
       "      <th>GSM2928377_AAACCTGAGTTGAGTA</th>\n",
       "      <td>0.000000</td>\n",
       "    </tr>\n",
       "    <tr>\n",
       "      <th>GSM2928377_AAACCTGGTAAAGTCA</th>\n",
       "      <td>0.000000</td>\n",
       "    </tr>\n",
       "  </tbody>\n",
       "</table>\n",
       "</div>"
      ],
      "text/plain": [
       "                             all_isoforms_expression\n",
       "unique_id                                           \n",
       "GSM2928377_AAACCTGAGAGGTTAT                 0.616966\n",
       "GSM2928377_AAACCTGAGTTGAGTA                 0.000000\n",
       "GSM2928377_AAACCTGGTAAAGTCA                 0.000000"
      ]
     },
     "execution_count": 15,
     "metadata": {},
     "output_type": "execute_result"
    }
   ],
   "source": [
    "# Calculate sum expression of all isoforms\n",
    "isoform_expression_sum = df_m.groupby('unique_id').sum()['expression'].to_frame()\n",
    "isoform_expression_sum.columns = ['all_isoforms_expression']\n",
    "isoform_expression_sum.head(n=3)"
   ]
  },
  {
   "cell_type": "code",
   "execution_count": 16,
   "id": "46d8d0c7",
   "metadata": {},
   "outputs": [],
   "source": [
    "# Merge with df\n",
    "df_sum = df_m.merge(isoform_expression_sum, left_on = 'unique_id', right_on = 'unique_id')"
   ]
  },
  {
   "cell_type": "code",
   "execution_count": 17,
   "id": "72dc8cf8",
   "metadata": {},
   "outputs": [],
   "source": [
    "# Calculate percentages\n",
    "df_sum['isof_percentage'] = df_sum['expression'] / df_sum['all_isoforms_expression'] * 100\n",
    "#df_sum['isof_percentage'] = df_sum['isof_percentage'].fillna(0)"
   ]
  },
  {
   "cell_type": "code",
   "execution_count": 18,
   "id": "b0957cdc",
   "metadata": {},
   "outputs": [],
   "source": [
    "# You can either fillNans or remove Nans\n",
    "\n",
    "# FillNans\n",
    "#df_sum['isof_percentage'] = df_sum['isof_percentage'].fillna(0)\n",
    "\n",
    "# Remove Nans\n",
    "df_sum = df_sum[~df_sum['isof_percentage'].isna()]"
   ]
  },
  {
   "cell_type": "code",
   "execution_count": 19,
   "id": "396e2634-d211-4b6e-aa3b-6995c27fc62f",
   "metadata": {},
   "outputs": [
    {
     "data": {
      "image/png": "[encoded data removed]",
      "text/plain": [
       "<Figure size 1080x648 with 1 Axes>"
      ]
     },
     "metadata": {
      "needs_background": "light"
     },
     "output_type": "display_data"
    }
   ],
   "source": [
    "pal = sns.color_palette(\"Blues\")\n",
    "\n",
    "colors = ['gray', 'gray', 'gray', 'gray', 'gray','gray', 'lightgray', pal[0], pal[4],pal[5]]\n",
    "\n",
    "plt.subplots(figsize=(15,9))\n",
    "f = sns.barplot(data = df_sum.query('target_id == \"p44b\"'), x = 'isof_percentage', y = 'label', order = order, palette = colors)\n",
    "f.set_xlabel(\"Percentage OAS1 isoform expression\")\n",
    "f.set_ylabel('Cell type')\n",
    "sns.despine()\n",
    "!mkdir -p figures\n",
    "plt.savefig('figures/fig_2f.png')"
   ]
  },
  {
   "cell_type": "markdown",
   "id": "99a32013",
   "metadata": {},
   "source": [
    "#### Read gene expression and merge with isoforms"
   ]
  },
  {
   "cell_type": "code",
   "execution_count": 20,
   "id": "60bbe82c",
   "metadata": {},
   "outputs": [],
   "source": [
    "gene_exp_fname = \"../files/oas1_testis_gene_expression.csv.gz\""
   ]
  },
  {
   "cell_type": "code",
   "execution_count": 23,
   "id": "206943fd",
   "metadata": {},
   "outputs": [],
   "source": [
    "# Read dataframe\n",
    "gene_df = pd.read_csv(gene_exp_fname)\n",
    "\n",
    "# Create unique cell id\n",
    "gene_df['cell_id'] = [f\"{obs_id}_{bc}\" for obs_id, bc in zip(gene_df['observation_id'], gene_df['barcode'])]\n",
    "\n",
    "# Rename column to make gene expression label unique\n",
    "gene_df = gene_df.rename(columns = {'expression': 'gene_expression'})\n",
    "\n",
    "# Subset to cell id and gene expression\n",
    "gene_df = gene_df[['cell_id', 'gene_expression']]"
   ]
  },
  {
   "cell_type": "code",
   "execution_count": 24,
   "id": "718b2591",
   "metadata": {},
   "outputs": [],
   "source": [
    "# Merge with isoform df\n",
    "gene_iso_df = df_sum.merge(gene_df, left_on = 'cell_id', right_on = 'cell_id')"
   ]
  },
  {
   "cell_type": "markdown",
   "id": "a706e2ea",
   "metadata": {},
   "source": [
    "## Analysis by observation id"
   ]
  },
  {
   "cell_type": "code",
   "execution_count": 25,
   "id": "1c1d1506",
   "metadata": {},
   "outputs": [],
   "source": [
    "rs_df = gene_iso_df.query('cell_type == \"Round Spermatid\"')\n"
   ]
  },
  {
   "cell_type": "code",
   "execution_count": null,
   "id": "83c3948c",
   "metadata": {},
   "outputs": [],
   "source": []
  },
  {
   "cell_type": "code",
   "execution_count": 26,
   "id": "5f1d3115",
   "metadata": {},
   "outputs": [
    {
     "data": {
      "image/png": "[encoded data removed]",
      "text/plain": [
       "<Figure size 720x432 with 1 Axes>"
      ]
     },
     "metadata": {
      "needs_background": "light"
     },
     "output_type": "display_data"
    }
   ],
   "source": [
    "sns.set_context('poster')\n",
    "fig, ax = plt.subplots(figsize=(10,6))\n",
    "f = sns.barplot(data =rs_df, y = 'isof_percentage', x = 'database_id', hue = 'target_id',\n",
    "                palette = ['#757575', '#BBBBBB', '#E4E4E4', '#4C77A4'], hue_order = ['p46', 'p42', 'p48', 'p44b'])\n",
    "f.set_ylabel(\"Percentage OAS1 isoform expression\", fontsize = 20)\n",
    "f.set_xlabel('Paper', fontsize = 20)\n",
    "plt.xticks(fontsize = 15)\n",
    "ax.get_legend().remove()\n",
    "sns.despine()\n",
    "plt.tight_layout()\n",
    "plt.legend(bbox_to_anchor = (1,1))\n",
    "plt.tight_layout()\n",
    "!mkdir -p figures\n",
    "plt.savefig('figures/fig_s4.png')\n",
    "\n"
   ]
  },
  {
   "cell_type": "code",
   "execution_count": 27,
   "id": "99e7b38e",
   "metadata": {},
   "outputs": [
    {
     "data": {
      "image/png": "[encoded data removed]",
      "text/plain": [
       "<Figure size 1008x432 with 1 Axes>"
      ]
     },
     "metadata": {
      "needs_background": "light"
     },
     "output_type": "display_data"
    }
   ],
   "source": [
    "sns.set_context('poster')\n",
    "fig, ax = plt.subplots(figsize=(14,6))\n",
    "f = sns.barplot(data =rs_df, y = 'isof_percentage', x = 'observation_id', hue = 'target_id',\n",
    "                palette = ['#757575', '#BBBBBB', '#E4E4E4', '#4C77A4'], hue_order = ['p46', 'p42', 'p48', 'p44b'])\n",
    "f.set_ylabel(\"Percentage OAS1 isoform expression\", fontsize = 20)\n",
    "f.set_xlabel('Paper', fontsize = 20)\n",
    "plt.xticks(fontsize = 15, rotation = 90)\n",
    "ax.get_legend().remove()\n",
    "sns.despine()\n",
    "plt.tight_layout()\n",
    "plt.savefig('figures/p44b_roundspermatid_byobservation.pdf')"
   ]
  },
  {
   "cell_type": "code",
   "execution_count": null,
   "id": "ae21ba1b",
   "metadata": {},
   "outputs": [],
   "source": []
  }
 ],
 "metadata": {
  "kernelspec": {
   "display_name": "Python 3",
   "language": "python",
   "name": "python3"
  },
  "language_info": {
   "codemirror_mode": {
    "name": "ipython",
    "version": 3
   },
   "file_extension": ".py",
   "mimetype": "text/x-python",
   "name": "python",
   "nbconvert_exporter": "python",
   "pygments_lexer": "ipython3",
   "version": "3.6.9"
  }
 },
 "nbformat": 4,
 "nbformat_minor": 5
}
